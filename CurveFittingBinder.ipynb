{
 "cells": [
  {
   "cell_type": "markdown",
   "metadata": {},
   "source": [
    "### Run the following cell to initialise the notebook\n",
    "\n",
    "1. Place cursor over cell and click\n",
    "    You should see a blinking line in where you have clicked\n",
    "2. Click 'Run' in the toolbar above \n",
    "    OR: Hold the Shift key and press Enter (keyboard shortcut to do the same thing as clicking 'Run')"
   ]
  },
  {
   "cell_type": "code",
   "execution_count": null,
   "metadata": {},
   "outputs": [],
   "source": [
    "%matplotlib inline\n",
    "import numpy as np\n",
    "import matplotlib.pyplot as plt\n",
    "from scipy.optimize import curve_fit\n",
    "import ipywidgets as widgets\n",
    "\n",
    "print('Done! Notebook initialised')"
   ]
  },
  {
   "cell_type": "markdown",
   "metadata": {},
   "source": [
    "### Run the following cell to set up a functions we will use a few times\n",
    "Click into cell and click 'Run' as before"
   ]
  },
  {
   "cell_type": "code",
   "execution_count": null,
   "metadata": {},
   "outputs": [],
   "source": [
    "def gaussian(x,a0=13.,b=50.,c=10.):\n",
    "    return a0 * np.exp(-1*(x-b)**2/(2*c**2))\n",
    "\n",
    "def plot_curve(Centre,Width,Amplitude):\n",
    "    manual_tune = gaussian(x,a0=Amplitude,b=Centre,c=Width/(2*np.sqrt(2*np.log(2))))\n",
    "    plt.figure(2)\n",
    "    plt.plot(noisy_curve)\n",
    "    plt.plot(manual_tune)\n",
    "    plt.show()\n",
    "    \n",
    "print('Done! Generated functions')"
   ]
  },
  {
   "cell_type": "markdown",
   "metadata": {},
   "source": [
    "### Run the following cell to plot a noisy curve"
   ]
  },
  {
   "cell_type": "code",
   "execution_count": null,
   "metadata": {},
   "outputs": [],
   "source": [
    "x = np.arange(0,100)\n",
    "noise_scale = 0.2*13\n",
    "noisy_curve = gaussian(x)+noise_scale*np.random.normal(0,1,100)\n",
    "plt.figure(1)\n",
    "plt.plot(noisy_curve)"
   ]
  },
  {
   "cell_type": "markdown",
   "metadata": {},
   "source": [
    "### Run the following cell and then use the sliders to see what happens\n",
    "\n",
    "Run the cell first to set up the sliders.\n",
    "\n",
    "Change the parameters by dragging with your mouse to explore the best fit.\n",
    "\n",
    "Try to make the orange and blue lines overlap as much as possible!\n",
    "\n",
    "Be careful - if you change things too quickly, the lag to update may get confusing."
   ]
  },
  {
   "cell_type": "code",
   "execution_count": null,
   "metadata": {},
   "outputs": [],
   "source": [
    "interactive_plot = widgets.interactive(plot_curve, Centre=(25,75), Width=(1, 100), Amplitude=(0.5,50))\n",
    "output = interactive_plot.children[-1]\n",
    "output.layout.height = '350px'\n",
    "interactive_plot"
   ]
  },
  {
   "cell_type": "markdown",
   "metadata": {},
   "source": [
    "### Fill in the following guesses based on your best estimate of the parameters"
   ]
  },
  {
   "cell_type": "markdown",
   "metadata": {},
   "source": [
    "1. Enter the values from the sliders after the '=' here.\n",
    "2. Click 'Run' after entering the value. This wills save the value to the variable."
   ]
  },
  {
   "cell_type": "markdown",
   "metadata": {},
   "source": [
    "#### Enter the centre after '=' here:\n",
    "Don't forget to run the cell after entering the value"
   ]
  },
  {
   "cell_type": "code",
   "execution_count": null,
   "metadata": {},
   "outputs": [],
   "source": [
    "Centre_Guess ="
   ]
  },
  {
   "cell_type": "markdown",
   "metadata": {},
   "source": [
    "#### Enter the width after the '=' here:\n",
    "Don't forget to run the cell after entering the value"
   ]
  },
  {
   "cell_type": "code",
   "execution_count": null,
   "metadata": {},
   "outputs": [],
   "source": [
    "Width_Guess ="
   ]
  },
  {
   "cell_type": "markdown",
   "metadata": {},
   "source": [
    "#### Enter the amplitude after the '=' here:\n",
    "Don't forget to run the cell after entering the value"
   ]
  },
  {
   "cell_type": "code",
   "execution_count": null,
   "metadata": {},
   "outputs": [],
   "source": [
    "Amplitude_Guess ="
   ]
  },
  {
   "cell_type": "markdown",
   "metadata": {},
   "source": [
    "### Run the next cell to automatically fit the data\n",
    "The fit will start from the guesses you enter. \n",
    "\n",
    "Check that you have entered and run the three cells above!\n",
    "\n",
    "If you see an error saying something like 'Amplitude_Guess is not defined' then run the cell where you enter Amplitude_Guess and then try again."
   ]
  },
  {
   "cell_type": "code",
   "execution_count": null,
   "metadata": {},
   "outputs": [],
   "source": [
    "a = Amplitude_Guess\n",
    "b = Centre_Guess\n",
    "c = Width_Guess/2*np.sqrt(2*np.log(2))\n",
    "\n",
    "fitting_results = curve_fit(gaussian,x,ydata = noisy_curve,p0=(a,b,c))\n",
    "\n",
    "print('Fit amplitude: ' + str(fitting_results[0][0]))\n",
    "print('Fit centre: ' + str(fitting_results[0][1]))\n",
    "print('Fit width: ' +str(fitting_results[0][2]))"
   ]
  },
  {
   "cell_type": "markdown",
   "metadata": {},
   "source": [
    "### Copy and Paste these values to the form (second link)\n",
    "Alternatively, enter the values in the form with at least two decimal places.\n",
    "\n",
    "Example: value = 56.110203 could be entered as 56.11 (more decimal places also fine)"
   ]
  },
  {
   "cell_type": "markdown",
   "metadata": {},
   "source": [
    "### Run the last cell below to plot the fitting results\n",
    "Check that the results look sensible. The orange curve should be the best possible fit to the data."
   ]
  },
  {
   "cell_type": "code",
   "execution_count": null,
   "metadata": {},
   "outputs": [],
   "source": [
    "fit_curve = gaussian(x,a0=fitting_results[0][0],b=fitting_results[0][1],c=fitting_results[0][2])\n",
    "plt.plot(noisy_curve)\n",
    "plt.plot(fit_curve)"
   ]
  },
  {
   "cell_type": "code",
   "execution_count": null,
   "metadata": {},
   "outputs": [],
   "source": []
  }
 ],
 "metadata": {
  "kernelspec": {
   "display_name": "Python 3",
   "language": "python",
   "name": "python3"
  },
  "language_info": {
   "codemirror_mode": {
    "name": "ipython",
    "version": 3
   },
   "file_extension": ".py",
   "mimetype": "text/x-python",
   "name": "python",
   "nbconvert_exporter": "python",
   "pygments_lexer": "ipython3",
   "version": "3.7.6"
  }
 },
 "nbformat": 4,
 "nbformat_minor": 4
}
